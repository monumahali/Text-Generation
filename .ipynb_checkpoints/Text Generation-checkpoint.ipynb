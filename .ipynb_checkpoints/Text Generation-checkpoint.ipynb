{
 "cells": [
  {
   "cell_type": "code",
   "execution_count": 153,
   "metadata": {},
   "outputs": [],
   "source": [
    "import numpy as np\n",
    "import tensorflow as tf\n",
    "import collections"
   ]
  },
  {
   "cell_type": "markdown",
   "metadata": {},
   "source": [
    "### Reading data and converting to bigrams"
   ]
  },
  {
   "cell_type": "code",
   "execution_count": 154,
   "metadata": {},
   "outputs": [],
   "source": [
    "def read_data(file):\n",
    "    with open(file, 'r') as f:\n",
    "        text = f.read()\n",
    "        text = text.replace('\\n', '')\n",
    "        start_idx = text.find('VIKRAM AND THE VAMPIRE')\n",
    "        end_idx = text.find('FOOTNOTES')\n",
    "        text = text[start_idx:end_idx]\n",
    "        text = text.lower().strip()\n",
    "        \n",
    "        bigram_text = [''.join(text[char:char + 2]) for char in range(0, len(text) - 2, 2)]\n",
    "        \n",
    "    return bigram_text"
   ]
  },
  {
   "cell_type": "code",
   "execution_count": 155,
   "metadata": {},
   "outputs": [
    {
     "name": "stdout",
     "output_type": "stream",
     "text": [
      "no. of bigrams: 203402\n"
     ]
    },
    {
     "data": {
      "text/plain": [
       "['vi', 'kr', 'am', ' a', 'nd', ' t', 'he', ' v', 'am', 'pi']"
      ]
     },
     "execution_count": 155,
     "metadata": {},
     "output_type": "execute_result"
    }
   ],
   "source": [
    "bigram_text = read_data('2400-0.txt')\n",
    "print('no. of bigrams:', len(bigram_text))\n",
    "bigram_text[0:10]"
   ]
  },
  {
   "cell_type": "markdown",
   "metadata": {},
   "source": [
    "### Creating Dictionary"
   ]
  },
  {
   "cell_type": "code",
   "execution_count": 156,
   "metadata": {},
   "outputs": [],
   "source": [
    "def create_dict(bigrams):\n",
    "    \n",
    "    count = []\n",
    "    count.extend(collections.Counter(bigrams).most_common())\n",
    "    \n",
    "    dictionary = dict({'UNK':0})\n",
    "    for char, freq in count:\n",
    "    \n",
    "        dictionary[char] = len(dictionary)    \n",
    "            \n",
    "    rev_dictionary = dict(zip(dictionary.values(), dictionary.keys()))\n",
    "    \n",
    "    return dictionary, rev_dictionary, count\n"
   ]
  },
  {
   "cell_type": "code",
   "execution_count": 157,
   "metadata": {},
   "outputs": [
    {
     "name": "stdout",
     "output_type": "stream",
     "text": [
      "dictionary ['ul', 'nz', 'nh', 'r ', 'y.', '93', 'ha', '24', 'er', '14']\n",
      "reverse dictionary [0, 1, 2, 3, 4, 5, 6, 7, 8, 9]\n",
      "most common words: [('e ', 5889), (' t', 5669), ('th', 5586), ('he', 5425), (' a', 3910)]\n",
      "len of dictionary: 1126\n"
     ]
    }
   ],
   "source": [
    "dictionary, rev_dictionary, count = create_dict(bigram_text)\n",
    "vocab_size = len(dictionary)\n",
    "\n",
    "print('dictionary', list(dictionary)[:10])\n",
    "print('reverse dictionary', list(rev_dictionary)[:10])\n",
    "print('most common words:', count[0:5])\n",
    "print('len of dictionary:', len(dictionary))"
   ]
  },
  {
   "cell_type": "markdown",
   "metadata": {},
   "source": [
    "### Converting from bigrams to int"
   ]
  },
  {
   "cell_type": "code",
   "execution_count": 158,
   "metadata": {},
   "outputs": [],
   "source": [
    "def bigram_to_int(bigram_text, dictionary):\n",
    "    \n",
    "    bigram_int = []\n",
    "    \n",
    "    for bigram in bigram_text:\n",
    "        \n",
    "        if bigram in dictionary:\n",
    "            bigram_int.append(dictionary[bigram])\n",
    "        else:\n",
    "            bigram_int.append(dictionary['UNK'])\n",
    "\n",
    "    return bigram_int"
   ]
  },
  {
   "cell_type": "code",
   "execution_count": 159,
   "metadata": {},
   "outputs": [
    {
     "name": "stdout",
     "output_type": "stream",
     "text": [
      "[147, 288, 109, 5, 15, 2, 4, 155, 109, 196]\n"
     ]
    }
   ],
   "source": [
    "bigram_int = bigram_to_int(bigram_text, dictionary)\n",
    "print(list(bigram_int[0:10]))"
   ]
  },
  {
   "cell_type": "markdown",
   "metadata": {},
   "source": [
    "### Generating batches"
   ]
  },
  {
   "cell_type": "code",
   "execution_count": 117,
   "metadata": {},
   "outputs": [],
   "source": [
    "def next_batch(bigrams, batch_size, batch_num):\n",
    "    global vocab_size\n",
    "    \n",
    "    segments = len(bigrams) // batch_size\n",
    "    \n",
    "    seg_idx = [offset * segments for offset in range(batch_size)]\n",
    "\n",
    "    batch_data = np.zeros((batch_size,vocab_size),dtype=np.float32)\n",
    "    batch_labels = np.zeros((batch_size,vocab_size),dtype=np.float32)\n",
    "    \n",
    "    # + 1 for extra label\n",
    "    #bigram_data = bigrams[batch_num*batch_size : batch_num*batch_size + batch_size + 1]\n",
    "    \n",
    "    for bi in range(batch_size):\n",
    "        batch_data[bi, dictionary[bigram_data[bi]]] = 1\n",
    "        batch_labels[bi, dictionary[bigram_data[bi]] + 1] = 1\n",
    "        \n",
    "    return batch_data, batch_labels"
   ]
  },
  {
   "cell_type": "code",
   "execution_count": 118,
   "metadata": {},
   "outputs": [],
   "source": [
    "batch_data, batch_labels = next_batch(bigram_text, 64, 0)\n",
    "#np.set_printoptions(threshold=np.nan)\n",
    "#batch_labels.shape\n",
    "#batch_data.shape"
   ]
  },
  {
   "cell_type": "markdown",
   "metadata": {},
   "source": [
    "### Unrolling batches"
   ]
  },
  {
   "cell_type": "code",
   "execution_count": 162,
   "metadata": {},
   "outputs": [],
   "source": [
    "def unroll_batches(num_unroll, batch_size):\n",
    "    \n",
    "    unroll_data = []\n",
    "    unroll_labels = []\n",
    "    \n",
    "    for u_idx in range(num_unroll):\n",
    "        \n",
    "        batch_data, batch_labels = next_batch(bigram_text, batch_size, u_idx)\n",
    "        \n",
    "        unroll_data.append(batch_data)\n",
    "        unroll_labels.append(batch_labels)\n",
    "        \n",
    "    return unroll_data, unroll_labels"
   ]
  },
  {
   "cell_type": "code",
   "execution_count": 163,
   "metadata": {},
   "outputs": [
    {
     "name": "stdout",
     "output_type": "stream",
     "text": [
      "unroll data shape: (5, 5, 1126)\n",
      "unroll labels shape: (5, 5, 1126)\n",
      "\n",
      "\n",
      "Unrolled index 0\n",
      "\tInputs:\n",
      "\tvi (147), \tne (64), \the (4), \tre (16), \t s (17), \n",
      "\tOutput:\n",
      "\tvi (147), \tne (64), \the (4), \tre (16), \t s (17), \n",
      "\n",
      "Unrolled index 1\n",
      "\tInputs:\n",
      "\tvi (147), \tne (64), \the (4), \tre (16), \t s (17), \n",
      "\tOutput:\n",
      "\tvi (147), \tne (64), \the (4), \tre (16), \t s (17), \n",
      "\n",
      "Unrolled index 2\n",
      "\tInputs:\n",
      "\tvi (147), \tne (64), \the (4), \tre (16), \t s (17), \n",
      "\tOutput:\n",
      "\tvi (147), \tne (64), \the (4), \tre (16), \t s (17), \n",
      "\n",
      "Unrolled index 3\n",
      "\tInputs:\n",
      "\tvi (147), \tne (64), \the (4), \tre (16), \t s (17), \n",
      "\tOutput:\n",
      "\tvi (147), \tne (64), \the (4), \tre (16), \t s (17), \n",
      "\n",
      "Unrolled index 4\n",
      "\tInputs:\n",
      "\tvi (147), \tne (64), \the (4), \tre (16), \t s (17), \n",
      "\tOutput:\n",
      "\tvi (147), \tne (64), \the (4), \tre (16), \t s (17), "
     ]
    }
   ],
   "source": [
    "unroll_data, unroll_labels = unroll_batches(5, 5)\n",
    "print('unroll data shape:', np.array(unroll_data).shape)\n",
    "print('unroll labels shape:', np.array(unroll_labels).shape)\n",
    "\n",
    "for ui,(dat,lbl) in enumerate(zip(unroll_data,unroll_labels)):   \n",
    "    print('\\n\\nUnrolled index %d'%ui)\n",
    "    dat_ind = np.argmax(dat,axis=1)\n",
    "    lbl_ind = np.argmax(lbl,axis=1)\n",
    "    print('\\tInputs:')\n",
    "    for sing_dat in dat_ind:\n",
    "        print('\\t%s (%d)'%(rev_dictionary[sing_dat],sing_dat),end=\", \")\n",
    "    print('\\n\\tOutput:')\n",
    "    for sing_lbl in lbl_ind:        \n",
    "        print('\\t%s (%d)'%(rev_dictionary[sing_lbl],sing_lbl),end=\", \")"
   ]
  },
  {
   "cell_type": "markdown",
   "metadata": {},
   "source": [
    "### Recurrent Neural Network"
   ]
  },
  {
   "cell_type": "code",
   "execution_count": 160,
   "metadata": {},
   "outputs": [],
   "source": [
    "def next_batch(bigrams, batch_size):\n",
    "    global vocab_size\n",
    "    \n",
    "    segments = len(bigrams) // batch_size\n",
    "    \n",
    "    seg_idx = [offset * segments for offset in range(batch_size)]\n",
    "\n",
    "    batch_data = np.zeros((batch_size,vocab_size),dtype=np.float32)\n",
    "    batch_labels = np.zeros((batch_size,vocab_size),dtype=np.float32)\n",
    "    \n",
    "    # + 1 for extra label\n",
    "    #bigram_data = bigrams[batch_num*batch_size : batch_num*batch_size + batch_size + 1]\n",
    "    \n",
    "    for bi in range(batch_size):\n",
    "        \n",
    "        if seg_idx[bi]+1 >= len(bigrams):\n",
    "            self.seg_idx[bi] = bi * segments\n",
    "        \n",
    "        batch_data[bi, dictionary[bigrams[seg_idx[bi]]]] = 1\n",
    "        batch_labels[bi, dictionary[bigrams[seg_idx[bi]]]] = 1\n",
    "        \n",
    "        seg_idx[bi] = (seg_idx[bi]+1) % len(bigrams)\n",
    "        \n",
    "    return batch_data, batch_labels"
   ]
  },
  {
   "cell_type": "code",
   "execution_count": 161,
   "metadata": {},
   "outputs": [],
   "source": [
    "batch_data, batch_labels = next_batch(bigram_text, 64, 0)"
   ]
  },
  {
   "cell_type": "code",
   "execution_count": 164,
   "metadata": {},
   "outputs": [
    {
     "data": {
      "text/plain": [
       "[0,\n",
       " 3178,\n",
       " 6356,\n",
       " 9534,\n",
       " 12712,\n",
       " 15890,\n",
       " 19068,\n",
       " 22246,\n",
       " 25424,\n",
       " 28602,\n",
       " 31780,\n",
       " 34958,\n",
       " 38136,\n",
       " 41314,\n",
       " 44492,\n",
       " 47670,\n",
       " 50848,\n",
       " 54026,\n",
       " 57204,\n",
       " 60382,\n",
       " 63560,\n",
       " 66738,\n",
       " 69916,\n",
       " 73094,\n",
       " 76272,\n",
       " 79450,\n",
       " 82628,\n",
       " 85806,\n",
       " 88984,\n",
       " 92162,\n",
       " 95340,\n",
       " 98518,\n",
       " 101696,\n",
       " 104874,\n",
       " 108052,\n",
       " 111230,\n",
       " 114408,\n",
       " 117586,\n",
       " 120764,\n",
       " 123942,\n",
       " 127120,\n",
       " 130298,\n",
       " 133476,\n",
       " 136654,\n",
       " 139832,\n",
       " 143010,\n",
       " 146188,\n",
       " 149366,\n",
       " 152544,\n",
       " 155722,\n",
       " 158900,\n",
       " 162078,\n",
       " 165256,\n",
       " 168434,\n",
       " 171612,\n",
       " 174790,\n",
       " 177968,\n",
       " 181146,\n",
       " 184324,\n",
       " 187502,\n",
       " 190680,\n",
       " 193858,\n",
       " 197036,\n",
       " 200214]"
      ]
     },
     "execution_count": 164,
     "metadata": {},
     "output_type": "execute_result"
    }
   ],
   "source": [
    "batch_size = 64\n",
    "segments = len(bigram_text) // batch_size\n",
    "seg_idx = [offset * segments for offset in range(batch_size)]\n",
    "seg_idx"
   ]
  },
  {
   "cell_type": "code",
   "execution_count": null,
   "metadata": {},
   "outputs": [],
   "source": []
  }
 ],
 "metadata": {
  "kernelspec": {
   "display_name": "Python 3",
   "language": "python",
   "name": "python3"
  },
  "language_info": {
   "codemirror_mode": {
    "name": "ipython",
    "version": 3
   },
   "file_extension": ".py",
   "mimetype": "text/x-python",
   "name": "python",
   "nbconvert_exporter": "python",
   "pygments_lexer": "ipython3",
   "version": "3.5.4"
  }
 },
 "nbformat": 4,
 "nbformat_minor": 2
}
