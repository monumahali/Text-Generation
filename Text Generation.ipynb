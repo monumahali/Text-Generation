{
 "cells": [
  {
   "cell_type": "code",
   "execution_count": 66,
   "metadata": {},
   "outputs": [],
   "source": [
    "import numpy as np\n",
    "import tensorflow as tf\n",
    "import collections"
   ]
  },
  {
   "cell_type": "markdown",
   "metadata": {},
   "source": [
    "### Reading data and converting to bigrams"
   ]
  },
  {
   "cell_type": "code",
   "execution_count": 67,
   "metadata": {},
   "outputs": [],
   "source": [
    "def read_data(file):\n",
    "    with open(file, 'r') as f:\n",
    "        text = f.read()\n",
    "        text = text.replace('\\n', '')\n",
    "        start_idx = text.find('In Benares')\n",
    "        end_idx = text.find('FOOTNOTES')\n",
    "        text = text[start_idx:end_idx]\n",
    "        text = text.lower().strip()\n",
    "        \n",
    "        bigram_text = [''.join(text[char:char + 2]) for char in range(0, len(text) - 2, 2)]\n",
    "        \n",
    "    return bigram_text"
   ]
  },
  {
   "cell_type": "code",
   "execution_count": 68,
   "metadata": {},
   "outputs": [
    {
     "name": "stdout",
     "output_type": "stream",
     "text": [
      "no. of bigrams: 162287\n"
     ]
    },
    {
     "data": {
      "text/plain": [
       "['in', ' b', 'en', 'ar', 'es', ' o', 'nc', 'e ', 're', 'ig']"
      ]
     },
     "execution_count": 68,
     "metadata": {},
     "output_type": "execute_result"
    }
   ],
   "source": [
    "bigram_text = read_data('2400-0.txt')\n",
    "print('no. of bigrams:', len(bigram_text))\n",
    "bigram_text[0:10]"
   ]
  },
  {
   "cell_type": "markdown",
   "metadata": {},
   "source": [
    "### Creating Dictionary"
   ]
  },
  {
   "cell_type": "code",
   "execution_count": 69,
   "metadata": {},
   "outputs": [],
   "source": [
    "def create_dict(bigrams):\n",
    "    \n",
    "    count = []\n",
    "    count.extend(collections.Counter(bigrams).most_common())\n",
    "    \n",
    "    dictionary = dict({'UNK':0})\n",
    "    for char, freq in count:\n",
    "    \n",
    "        dictionary[char] = len(dictionary)    \n",
    "            \n",
    "    rev_dictionary = dict(zip(dictionary.values(), dictionary.keys()))\n",
    "    \n",
    "    return dictionary, rev_dictionary, count\n"
   ]
  },
  {
   "cell_type": "code",
   "execution_count": 70,
   "metadata": {},
   "outputs": [
    {
     "name": "stdout",
     "output_type": "stream",
     "text": [
      "dictionary ['37', 'nu', 'mw', 'un', 'p,', 'pu', 'n)', 'b-', '?’', 's ']\n",
      "reverse dictionary [0, 1, 2, 3, 4, 5, 6, 7, 8, 9]\n",
      "most common words: [('e ', 4702), (' t', 4538), ('he', 4474), ('th', 4451), ('d ', 3014)]\n",
      "len of dictionary: 1045\n"
     ]
    }
   ],
   "source": [
    "dictionary, rev_dictionary, count = create_dict(bigram_text)\n",
    "vocab_size = len(dictionary)\n",
    "\n",
    "print('dictionary', list(dictionary)[:10])\n",
    "print('reverse dictionary', list(rev_dictionary)[:10])\n",
    "print('most common words:', count[0:5])\n",
    "print('len of dictionary:', len(dictionary))"
   ]
  },
  {
   "cell_type": "markdown",
   "metadata": {},
   "source": [
    "### Converting from bigrams to int"
   ]
  },
  {
   "cell_type": "code",
   "execution_count": 71,
   "metadata": {},
   "outputs": [],
   "source": [
    "def bigram_to_int(bigram_text, dictionary):\n",
    "    \n",
    "    bigram_int = []\n",
    "    \n",
    "    for bigram in bigram_text:\n",
    "        \n",
    "        if bigram in dictionary:\n",
    "            bigram_int.append(dictionary[bigram])\n",
    "        else:\n",
    "            bigram_int.append(dictionary['UNK'])\n",
    "\n",
    "    return bigram_int"
   ]
  },
  {
   "cell_type": "code",
   "execution_count": 72,
   "metadata": {},
   "outputs": [
    {
     "name": "stdout",
     "output_type": "stream",
     "text": [
      "[9, 23, 24, 44, 34, 19, 118, 1, 17, 155]\n"
     ]
    }
   ],
   "source": [
    "bigram_int = bigram_to_int(bigram_text, dictionary)\n",
    "print(list(bigram_int[0:10]))"
   ]
  },
  {
   "cell_type": "markdown",
   "metadata": {},
   "source": [
    "### Generating batches"
   ]
  },
  {
   "cell_type": "code",
   "execution_count": 73,
   "metadata": {},
   "outputs": [],
   "source": [
    "def next_batch(bigrams, batch_size, num_unroll):\n",
    "    global vocab_size\n",
    "    \n",
    "    segments = len(bigrams) // batch_size\n",
    "    \n",
    "    cursor = [(offset * segments) + num_unroll for offset in range(batch_size)]\n",
    "    \n",
    "    \n",
    "    batch_data = np.zeros((batch_size,vocab_size),dtype=np.float32)\n",
    "    batch_labels = np.zeros((batch_size,vocab_size),dtype=np.float32)\n",
    "\n",
    "    \n",
    "    for b in range(batch_size):\n",
    "        \n",
    "        if cursor[b]+1>= len(bigrams):\n",
    "            cursor[b] = b * segments\n",
    "        \n",
    "        batch_data[b, bigram_int[cursor[b]]] = 1.0\n",
    "        batch_labels[b, bigram_int[cursor[b] + 1 ]] = 1.0\n",
    "        \n",
    "        cursor[b] = (cursor[b]+1)%len(bigrams)\n",
    "    \n",
    "    return batch_data, batch_labels"
   ]
  },
  {
   "cell_type": "markdown",
   "metadata": {},
   "source": [
    "### Unrolling batches"
   ]
  },
  {
   "cell_type": "code",
   "execution_count": 74,
   "metadata": {},
   "outputs": [],
   "source": [
    "def unroll_batches(bigram_int, num_unroll, batch_size):\n",
    "    \n",
    "    unroll_data = []\n",
    "    unroll_labels = []\n",
    "    \n",
    "    for u_idx in range(num_unroll):\n",
    "        \n",
    "        batch_data, batch_labels = next_batch(bigram_int, batch_size, u_idx)\n",
    "        \n",
    "        unroll_data.append(batch_data)\n",
    "        unroll_labels.append(batch_labels)\n",
    "        \n",
    "    return unroll_data, unroll_labels"
   ]
  },
  {
   "cell_type": "code",
   "execution_count": 75,
   "metadata": {},
   "outputs": [
    {
     "name": "stdout",
     "output_type": "stream",
     "text": [
      "unroll data shape: (10, 5, 1045)\n",
      "unroll labels shape: (10, 5, 1045)\n",
      "\n",
      "\n",
      "Unrolled index 0\n",
      "\tInputs:\n",
      "\tin (9), \tne (68), \t b (23), \tt, (175), \tn  (15), \n",
      "\tOutput:\n",
      "\t b (23), \td  (5), \ty  (29), \t t (2), \tva (216), \n",
      "\n",
      "Unrolled index 1\n",
      "\tInputs:\n",
      "\t b (23), \td  (5), \ty  (29), \t t (2), \tva (216), \n",
      "\tOutput:\n",
      "\ten (24), \ta  (59), \tna (176), \to  (32), \tjr (437), \n",
      "\n",
      "Unrolled index 2\n",
      "\tInputs:\n",
      "\ten (24), \ta  (59), \tna (176), \to  (32), \tjr (437), \n",
      "\tOutput:\n",
      "\tar (44), \tmi (142), \tme (57), \twh (70), \tam (125), \n",
      "\n",
      "Unrolled index 3\n",
      "\tInputs:\n",
      "\tar (44), \tmi (142), \tme (57), \twh (70), \tam (125), \n",
      "\tOutput:\n",
      "\tes (34), \tgh (132), \t p (51), \tos (139), \tuk (429), \n",
      "\n",
      "Unrolled index 4\n",
      "\tInputs:\n",
      "\tes (34), \tgh (132), \t p (51), \tos (139), \tuk (429), \n",
      "\tOutput:\n",
      "\t o (19), \tty (178), \tra (60), \tee (102), \tut (98), \n",
      "\n",
      "Unrolled index 5\n",
      "\tInputs:\n",
      "\t o (19), \tty (178), \tra (60), \tee (102), \tut (98), \n",
      "\tOutput:\n",
      "\tnc (118), \t p (51), \tta (105), \tig (155), \t h (11), \n",
      "\n",
      "Unrolled index 6\n",
      "\tInputs:\n",
      "\tnc (118), \t p (51), \tta (105), \tig (155), \t h (11), \n",
      "\tOutput:\n",
      "\te  (1), \tri (58), \tpa (134), \tht (159), \tap (210), \n",
      "\n",
      "Unrolled index 7\n",
      "\tInputs:\n",
      "\te  (1), \tri (58), \tpa (134), \tht (159), \tap (210), \n",
      "\tOutput:\n",
      "\tre (17), \tnc (118), \tmu (240), \th  (65), \tpe (112), \n",
      "\n",
      "Unrolled index 8\n",
      "\tInputs:\n",
      "\tre (17), \tnc (118), \tmu (240), \th  (65), \tpe (112), \n",
      "\tOutput:\n",
      "\tig (155), \te, (101), \tku (448), \tso (97), \tne (68), \n",
      "\n",
      "Unrolled index 9\n",
      "\tInputs:\n",
      "\tig (155), \te, (101), \tku (448), \tso (97), \tn  (15), \n",
      "\tOutput:\n",
      "\tne (68), \t b (23), \tt, (175), \tn  (15), \tva (216), "
     ]
    }
   ],
   "source": [
    "unroll_data, unroll_labels = unroll_batches(bigram_int[:50] , 10, 5)\n",
    "print('unroll data shape:', np.array(unroll_data).shape)\n",
    "print('unroll labels shape:', np.array(unroll_labels).shape)\n",
    "\n",
    "for ui,(dat,lbl) in enumerate(zip(unroll_data,unroll_labels)):   \n",
    "    print('\\n\\nUnrolled index %d'%ui)\n",
    "    dat_ind = np.argmax(dat,axis=1)\n",
    "    lbl_ind = np.argmax(lbl,axis=1)\n",
    "    print('\\tInputs:')\n",
    "    for sing_dat in dat_ind:\n",
    "        print('\\t%s (%d)'%(rev_dictionary[sing_dat],sing_dat),end=\", \")\n",
    "    print('\\n\\tOutput:')\n",
    "    for sing_lbl in lbl_ind:        \n",
    "        print('\\t%s (%d)'%(rev_dictionary[sing_lbl],sing_lbl),end=\", \")"
   ]
  },
  {
   "cell_type": "markdown",
   "metadata": {},
   "source": [
    "### Recurrent Neural Network"
   ]
  },
  {
   "cell_type": "markdown",
   "metadata": {},
   "source": [
    "### Defining Hyperparameters"
   ]
  },
  {
   "cell_type": "code",
   "execution_count": 81,
   "metadata": {},
   "outputs": [],
   "source": [
    "tf.reset_default_graph()\n",
    "\n",
    "num_unroll = 50\n",
    "\n",
    "batch_size = 64\n",
    "test_batch_size = 1\n",
    "\n",
    "hidden = 64\n",
    "\n",
    "in_size, out_size = vocab_size, vocab_size"
   ]
  },
  {
   "cell_type": "markdown",
   "metadata": {},
   "source": [
    "### Deining i/p's and o/p's"
   ]
  },
  {
   "cell_type": "code",
   "execution_count": 89,
   "metadata": {},
   "outputs": [],
   "source": [
    "train_dataset = []\n",
    "train_labels = []\n",
    "\n",
    "for ui in range(num_unroll):\n",
    "    train_dataset.append(tf.placeholder(tf.float32, shape = [batch_size, in_size], name = 'train_dataset_%d'%ui))\n",
    "    train_labels.append(tf.placeholder(tf.float32, shape = [batch_size, out_size], name = 'train_labels_%d'%ui))\n",
    "    \n",
    "test_dataset = tf.placeholder(tf.float32, shape = [test_batch_size, in_size], name = 'test_dataset')\n"
   ]
  },
  {
   "cell_type": "markdown",
   "metadata": {},
   "source": [
    "### Defining Model Parameters and other Variables"
   ]
  },
  {
   "cell_type": "code",
   "execution_count": 90,
   "metadata": {},
   "outputs": [],
   "source": [
    "W_xh = tf.Variable(tf.truncated_normal([in_size,hidden],stddev=0.02,dtype=tf.float32),name='W_xh')\n",
    "\n",
    "W_hh = tf.Variable(tf.truncated_normal([hidden,hidden],stddev=0.02,dtype=tf.float32),name='W_hh')\n",
    "\n",
    "W_hy = tf.Variable(tf.truncated_normal([hidden,out_size],stddev=0.02,dtype=tf.float32),name='W_hy')\n",
    "\n",
    "prev_train_h = tf.Variable(tf.zeros([batch_size,hidden],dtype=tf.float32),name='train_h',trainable=False)\n",
    "\n",
    "prev_test_h = tf.Variable(tf.zeros([test_batch_size,hidden],dtype=tf.float32),name='test_h')"
   ]
  },
  {
   "cell_type": "markdown",
   "metadata": {},
   "source": [
    "### Defining inference of the RNN"
   ]
  },
  {
   "cell_type": "code",
   "execution_count": 92,
   "metadata": {},
   "outputs": [],
   "source": [
    "y_scores = []\n",
    "y_predictions = []\n",
    "\n",
    "outputs = list()\n",
    "\n",
    "output_h = prev_train_h\n",
    "\n",
    "for ui in range(num_unroll):   \n",
    "    \n",
    "    output_h = tf.nn.tanh(tf.matmul(tf.concat([train_dataset[ui],output_h],1), tf.concat([W_xh,W_hh],0)))    \n",
    "    \n",
    "    outputs.append(output_h)\n",
    "    \n",
    "y_scores = [tf.matmul(outputs[ui],W_hy) for ui in range(num_unroll)]\n",
    "y_predictions = [tf.nn.softmax(y_scores[ui]) for ui in range(num_unroll)]\n",
    "\n",
    "next_test_state = tf.nn.tanh(tf.matmul(test_dataset,W_xh) + tf.matmul(prev_test_h,W_hh))\n",
    "\n",
    "with tf.control_dependencies([tf.assign(prev_test_h,next_test_state)]):\n",
    "    test_prediction = tf.nn.softmax(tf.matmul(next_test_state,W_hy))"
   ]
  },
  {
   "cell_type": "markdown",
   "metadata": {},
   "source": [
    "### Calculating RNN loss"
   ]
  },
  {
   "cell_type": "code",
   "execution_count": 93,
   "metadata": {},
   "outputs": [],
   "source": [
    "with tf.control_dependencies([tf.assign(prev_train_h,output_h)]):\n",
    "    \n",
    "    rnn_loss = tf.reduce_mean(tf.nn.softmax_cross_entropy_with_logits_v2(\n",
    "        logits=tf.concat(y_scores,0), labels=tf.concat(train_labels,0)))\n",
    "    "
   ]
  },
  {
   "cell_type": "markdown",
   "metadata": {},
   "source": [
    "### Optimizer with Gradient Clipping"
   ]
  },
  {
   "cell_type": "code",
   "execution_count": 94,
   "metadata": {},
   "outputs": [],
   "source": [
    "rnn_optimizer = tf.train.AdamOptimizer(learning_rate=0.001)\n",
    "\n",
    "gradients, v = zip(*rnn_optimizer.compute_gradients(rnn_loss))\n",
    "gradients, _ = tf.clip_by_global_norm(gradients, 5.0)\n",
    "rnn_optimizer = rnn_optimizer.apply_gradients(zip(gradients, v))"
   ]
  },
  {
   "cell_type": "markdown",
   "metadata": {},
   "source": [
    "### Resetting Operations for Resetting Hidden States"
   ]
  },
  {
   "cell_type": "code",
   "execution_count": 95,
   "metadata": {},
   "outputs": [],
   "source": [
    "reset_train_h_op = tf.assign(prev_train_h,tf.zeros([batch_size,hidden],dtype=tf.float32))\n",
    "\n",
    "reset_test_h_op = tf.assign(prev_test_h,tf.truncated_normal([test_batch_size,hidden],stddev=0.01,dtype=tf.float32))"
   ]
  },
  {
   "cell_type": "markdown",
   "metadata": {},
   "source": [
    "### Prediction Sampling"
   ]
  },
  {
   "cell_type": "code",
   "execution_count": 96,
   "metadata": {},
   "outputs": [],
   "source": [
    "def sample(distribution):\n",
    "  \n",
    "    best_idx = np.argmax(distribution)\n",
    "    return best_idx"
   ]
  },
  {
   "cell_type": "markdown",
   "metadata": {},
   "source": [
    "### Running the RNN to Generate Text"
   ]
  },
  {
   "cell_type": "code",
   "execution_count": 105,
   "metadata": {},
   "outputs": [
    {
     "name": "stderr",
     "output_type": "stream",
     "text": [
      "/home/monu/anaconda3/envs/tensorflow/lib/python3.5/site-packages/tensorflow/python/client/session.py:1711: UserWarning: An interactive session is already active. This can cause out-of-memory errors in some cases. You must explicitly call `InteractiveSession.close()` to release resources held by the other session(s).\n",
      "  warnings.warn('An interactive session is already active. This can '\n"
     ]
    },
    {
     "name": "stdout",
     "output_type": "stream",
     "text": [
      "Generated Text after epoch 0 ... \n",
      "======================== New text Segment ==========================\n",
      "\t me the thehehehehehehehehehehehehehehehehehehehehehehehehehehehehehehehehehehehehehehehehehehehehehehehehehehehehehehehehehehehehehehehehehehehehehehehehehehehehehehehehehehehehehehehehehehehehehehehehehehehehehehehehehehehehehehehehehehehehehehehehehehehehehehehehehehehehehehehehehehehehehehehehehehehehehehehehehehehehehehehehehehehehehehehehehehehehehehehehehehehehehehehehehehehehehehehehehehehehehehehehehehehehehehehehehehehehehehehehehehehehehehehehehehehehehehehehehehehehehehehehehehehehehehehehehehehehehehehehehehehehehehehehehehehehehehehehehehehehehehehehehehehehehehehehehehehehehehehehehehehehehehehehehehehehehehehehehehehehehehehehehehehehehehehehehehehehehehehehehehehehehehehehehehehehehehehehehehehehehehehehehehehehehehehehehehehehehehehehehehehehehehehehehehehehehehehehehehehehehehehehehehehehehehehehehehehehehehehehehehehehehehehehehehehehehehehehehehehehehehehehehehehehehehehehehehehehehehehehehehehehehehehehehehehehehehehehehehehehehehehehehehehehehehehehehehehehehehehehehehehehehehehehehehehehehehehehehehehehehehehehehehehehehehehehehehehehehehehehehehehehehehehehehehehehehehehehehehehehehehehehehehehehehehehehehehehehehehehehehehehehehehehehehehehehehehehehehehehehehehehehehehehehehehehehehehehehehehehehehehehehehehehehehehehehehehehehehehehehehehehehehehehehehehehehehehehehehehehehehehehehehehehehehehehehehehehehehehehehehehehehehehehehehehehehehehehehehehehehehehehehehehehehehehehehehehehehehehehehehehehehehehehehehehehehehehehehehehehehehehehehehehehehehehehehehehehehehehehehehehehehehehehehehehehehehehehehehehehehehehehehehehehehehehehehehehehehehehehehehehehehehehehehehehehehehehehehehehehehehehehehehehehehehehehehehehehehehehehehehehehehehehehehehehehehehehehehehehehehehehehehehehehehehehehehehehehehehehehehehehehehehehehehehehehehehehehehehehehehehehehehehehehehehehehehehehehehehehehehehehehehehehehehehehehehehehehehehehehehehehehehehehehehehehehehehehehehehehehehehehehehehehehehehehehehehehehehehehehehehehehehehehehehehehehehehehehehehehehehe\n",
      "====================================================================\n",
      "\n",
      "Generated Text after epoch 1 ... \n",
      "======================== New text Segment ==========================\n",
      "\t ned he thehehehehehehehehehehehehehehehehehehehehehehehehehehehehehehehehehehehehehehehehehehehehehehehehehehehehehehehehehehehehehehehehehehehehehehehehehehehehehehehehehehehehehehehehehehehehehehehehehehehehehehehehehehehehehehehehehehehehehehehehehehehehehehehehehehehehehehehehehehehehehehehehehehehehehehehehehehehehehehehehehehehehehehehehehehehehehehehehehehehehehehehehehehehehehehehehehehehehehehehehehehehehehehehehehehehehehehehehehehehehehehehehehehehehehehehehehehehehehehehehehehehehehehehehehehehehehehehehehehehehehehehehehehehehehehehehehehehehehehehehehehehehehehehehehehehehehehehehehehehehehehehehehehehehehehehehehehehehehehehehehehehehehehehehehehehehehehehehehehehehehehehehehehehehehehehehehehehehehehehehehehehehehehehehehehehehehehehehehehehehehehehehehehehehehehehehehehehehehehehehehehehehehehehehehehehehehehehehehehehehehehehehehehehehehehehehehehehehehehehehehehehehehehehehehehehehehehehehehehehehehehehehehehehehehehehehehehehehehehehehehehehehehehehehehehehehehehehehehehehehehehehehehehehehehehehehehehehehehehehehehehehehehehehehehehehehehehehehehehehehehehehehehehehehehehehehehehehehehehehehehehehehehehehehehehehehehehehehehehehehehehehehehehehehehehehehehehehehehehehehehehehehehehehehehehehehehehehehehehehehehehehehehehehehehehehehehehehehehehehehehehehehehehehehehehehehehehehehehehehehehehehehehehehehehehehehehehehehehehehehehehehehehehehehehehehehehehehehehehehehehehehehehehehehehehehehehehehehehehehehehehehehehehehehehehehehehehehehehehehehehehehehehehehehehehehehehehehehehehehehehehehehehehehehehehehehehehehehehehehehehehehehehehehehehehehehehehehehehehehehehehehehehehehehehehehehehehehehehehehehehehehehehehehehehehehehehehehehehehehehehehehehehehehehehehehehehehehehehehehehehehehehehehehehehehehehehehehehehehehehehehehehehehehehehehehehehehehehehehehehehehehehehehehehehehehehehehehehehehehehehehehehehehehehehehehehehehehehehehehehehehehehehehehehehehehehehehehehehehehehehehehehehehehehehehehehehehehehehehehehehehehehehehehehehehehehehehehehe\n",
      "====================================================================\n",
      "\n",
      "Generated Text after epoch 2 ... \n",
      "======================== New text Segment ==========================\n",
      "\t he the thehehehehehehehehehehehehehehehehehehehehehehehehehehehehehehehehehehehehehehehehehehehehehehehehehehehehehehehehehehehehehehehehehehehehehehehehehehehehehehehehehehehehehehehehehehehehehehehehehehehehehehehehehehehehehehehehehehehehehehehehehehehehehehehehehehehehehehehehehehehehehehehehehehehehehehehehehehehehehehehehehehehehehehehehehehehehehehehehehehehehehehehehehehehehehehehehehehehehehehehehehehehehehehehehehehehehehehehehehehehehehehehehehehehehehehehehehehehehehehehehehehehehehehehehehehehehehehehehehehehehehehehehehehehehehehehehehehehehehehehehehehehehehehehehehehehehehehehehehehehehehehehehehehehehehehehehehehehehehehehehehehehehehehehehehehehehehehehehehehehehehehehehehehehehehehehehehehehehehehehehehehehehehehehehehehehehehehehehehehehehehehehehehehehehehehehehehehehehehehehehehehehehehehehehehehehehehehehehehehehehehehehehehehehehehehehehehehehehehehehehehehehehehehehehehehehehehehehehehehehehehehehehehehehehehehehehehehehehehehehehehehehehehehehehehehehehehehehehehehehehehehehehehehehehehehehehehehehehehehehehehehehehehehehehehehehehehehehehehehehehehehehehehehehehehehehehehehehehehehehehehehehehehehehehehehehehehehehehehehehehehehehehehehehehehehehehehehehehehehehehehehehehehehehehehehehehehehehehehehehehehehehehehehehehehehehehehehehehehehehehehehehehehehehehehehehehehehehehehehehehehehehehehehehehehehehehehehehehehehehehehehehehehehehehehehehehehehehehehehehehehehehehehehehehehehehehehehehehehehehehehehehehehehehehehehehehehehehehehehehehehehehehehehehehehehehehehehehehehehehehehehehehehehehehehehehehehehehehehehehehehehehehehehehehehehehehehehehehehehehehehehehehehehehehehehehehehehehehehehehehehehehehehehehehehehehehehehehehehehehehehehehehehehehehehehehehehehehehehehehehehehehehehehehehehehehehehehehehehehehehehehehehehehehehehehehehehehehehehehehehehehehehehehehehehehehehehehehehehehehehehehehehehehehehehehehehehehehehehehehehehehehehehehehehehehehehehehehehehehehehehehehehehehehehehehehehehehehehehehehehehehehehehehehehehehehehehehehehe\n",
      "====================================================================\n",
      "\n",
      "Generated Text after epoch 3 ... \n",
      "======================== New text Segment ==========================\n"
     ]
    },
    {
     "name": "stdout",
     "output_type": "stream",
     "text": [
      "\t  bmpher he the the the the the the the the the the the the the the the the the the the the the the the the the the the the the the the the the the the the the the the the the the the the the the the the the the the the the the the the the the the the the the the the the the the the the the the the the the the the the the the the the the the the the the the the the the the the the the the the the the the the the the the the the the the the the the the the the the the the the the the the the the the the the the the the the the the the the the the the the the the the the the the the the the the the the the the the the the the the the the the the the the the the the the the the the the the the the the the the the the the the the the the the the the the the the the the the the the the the the the the the the the the the the the the the the the the the the the the the the the the the the the the the the the the the the the the the the the the the the the the the the the the the the the the the the the the the the the the the the the the the the the the the the the the the the the the the the the the the the the the the the the the the the the the the the the the the the the the the the the the the the the the the the the the the the the the the the the the the the the the the the the the the the the the the the the the the the the the the the the the the the the the the the the the the the the the the the the the the the the the the the the the the the the the the the the the the the the the the the the the the the the the the the the the the the the the the the the the the the the the the the the the the the the the the the the the the the the the the the the the the the the the the the the the the the the the the the the the the the the the the the the the the the the the the the the the the the the the the the the the the the the the the the the the the the the the the the the the the the the the the the the the the the the the the the the the the the the the the the the\n",
      "====================================================================\n",
      "\n",
      "Generated Text after epoch 4 ... \n",
      "======================== New text Segment ==========================\n",
      "\t e, not the the the the the the the the the the the the the the the the the the the the the the the the the the the the the the the the the the the the the the the the the the the the the the the the the the the the the the the the the the the the the the the the the the the the the the the the the the the the the the the the the the the the the the the the the the the the the the the the the the the the the the the the the the the the the the the the the the the the the the the the the the the the the the the the the the the the the the the the the the the the the the the the the the the the the the the the the the the the the the the the the the the the the the the the the the the the the the the the the the the the the the the the the the the the the the the the the the the the the the the the the the the the the the the the the the the the the the the the the the the the the the the the the the the the the the the the the the the the the the the the the the the the the the the the the the the the the the the the the the the the the the the the the the the the the the the the the the the the the the the the the the the the the the the the the the the the the the the the the the the the the the the the the the the the the the the the the the the the the the the the the the the the the the the the the the the the the the the the the the the the the the the the the the the the the the the the the the the the the the the the the the the the the the the the the the the the the the the the the the the the the the the the the the the the the the the the the the the the the the the the the the the the the the the the the the the the the the the the the the the the the the the the the the the the the the the the the the the the the the the the the the the the the the the the the the the the the the the the the the the the the the the the the the the the the the the the the the the the the the the the the the the the the the the the the the the the the the the the the the the\n",
      "====================================================================\n",
      "\n",
      "Generated Text after epoch 5 ... \n",
      "======================== New text Segment ==========================\n",
      "\t ad not their of the will the was ther the the the the the the the the the the the the the the the the the the the the the the the the the the the the the the the the the the the the the the the the the the the the the the the the the the the the the the the the the the the the the the the the the the the the the the the the the the the the the the the the the the the the the the the the the the the the the the the the the the the the the the the the the the the the the the the the the the the the the the the the the the the the the the the the the the the the the the the the the the the the the the the the the the the the the the the the the the the the the the the the the the the the the the the the the the the the the the the the the the the the the the the the the the the the the the the the the the the the the the the the the the the the the the the the the the the the the the the the the the the the the the the the the the the the the the the the the the the the the the the the the the the the the the the the the the the the the the the the the the the the the the the the the the the the the the the the the the the the the the the the the the the the the the the the the the the the the the the the the the the the the the the the the the the the the the the the the the the the the the the the the the the the the the the the the the the the the the the the the the the the the the the the the the the the the the the the the the the the the the the the the the the the the the the the the the the the the the the the the the the the the the the the the the the the the the the the the the the the the the the the the the the the the the the the the the the the the the the the the the the the the the the the the the the the the the the the the the the the the the the the the the the the the the the the the the the the the the the the the the the the the the the the the the the the the the the the the the the the the the the the the the the the the the the the the the the \n",
      "====================================================================\n",
      "\n",
      "Generated Text after epoch 6 ... \n",
      "======================== New text Segment ==========================\n"
     ]
    },
    {
     "name": "stdout",
     "output_type": "stream",
     "text": [
      "\t nce, and his then the will not their her his chat the displabour then the world;and the will not their her his chat the displabour then the world;and the will not their her his chat the displabour then the world;and the will not their her his chat the displabour then the world;and the will not their her his chat the displabour then the world;and the will not their her his chat the displabour then the world;and the will not their her his chat the displabour then the world;and the will not their her his chat the displabour then the world;and the will not their her his chat the displabour then the world;and the will not their her his chat the displabour then the world;and the will not their her his chat the displabour then the world;and the will not their her his chat the displabour then the world;and the will not their her his chat the displabour then the world;and the will not their her his chat the displabour then the world;and the will not their her his chat the displabour then the world;and the will not their her his chat the displabour then the world;and the will not their her his chat the displabour then the world;and the will not their her his chat the displabour then the world;and the will not their her his chat the displabour then the world;and the will not their her his chat the displabour then the world;and the will not their her his chat the displabour then the world;and the will not their her his chat the displabour then the world;and the will not their her his chat the displabour then the world;and the will not their her his chat the displabour then the world;and the will not their her his chat the displabour then the world;and the will not their her his chat the displabour then the world;and the will not their her his chat the displabour then the world;and the will not their her his chat the displabour then the world;and the will not their her his chat the displabour then the world;and the will not their her his chat the displabour then the world;and the \n",
      "====================================================================\n",
      "\n",
      "Generated Text after epoch 7 ... \n",
      "======================== New text Segment ==========================\n",
      "\t anging garments, explaing his more the dissolution, and the trumpened the world;and the mamen, because, exill incess form apparty, and hoppene form the rajput the golden the world;and the mamen, because, exill incess form apparty, and hoppene form the rajput the golden the world;and the mamen, because, exill incess form apparty, and hoppene form the rajput the golden the world;and the mamen, because, exill incess form apparty, and hoppene form the rajput the golden the world;and the mamen, because, exill incess form apparty, and hoppene form the rajput the golden the world;and the mamen, because, exill incess form apparty, and hoppene form the rajput the golden the world;and the mamen, because, exill incess form apparty, and hoppene form the rajput the golden the world;and the mamen, because, exill incess form apparty, and hoppene form the rajput the golden the world;and the mamen, because, exill incess form apparty, and hoppene form the rajput the golden the world;and the mamen, because, exill incess form apparty, and hoppene form the rajput the golden the world;and the mamen, because, exill incess form apparty, and hoppene form the rajput the golden the world;and the mamen, because, exill incess form apparty, and hoppene form the rajput the golden the world;and the mamen, because, exill incess form apparty, and hoppene form the rajput the golden the world;and the mamen, because, exill incess form apparty, and hoppene form the rajput the golden the world;and the mamen, because, exill incess form apparty, and hoppene form the rajput the golden the world;and the mamen, because, exill incess form apparty, and hoppene form the rajput the golden the world;and the mamen, because, exill incess form apparty, and hoppene form the rajput the golden the world;and the mamen, because, exill incess form apparty, and hoppene form the rajput the golden the world;and the mamen, because, exill incess form apparty, and hoppene form the rajput the golden the world;and the mamen, because\n",
      "====================================================================\n",
      "\n",
      "Generated Text after epoch 8 ... \n",
      "======================== New text Segment ==========================\n",
      "\t anging garments, ragged and dirtied bypanking rom the cloted the very same tree, and had not and for mraja vikram stepped out joyfully, and a garden of the guards,and seth to enjoy and then ase wild not his performouhe of the world;and the mamen, before the returning grosse, and curiout that?’returning grosse impo the but supporting and the leftin the right. in the work of suppressing his moustachios up their her not and thefourthe formed the very same tree, and had not and for mraja vikram stepped out joyfully, and a garden of the guards,and seth to enjoy and then ase wild not his performouhe of the world;and the mamen, before the returning grosse, and curiout that?’returning grosse impo the but supporting and the leftin the right. in the work of suppressing his moustachios up their her not and thefourthe formed the very same tree, and had not and for mraja vikram stepped out joyfully, and a garden of the guards,and seth to enjoy and then ase wild not his performouhe of the world;and the mamen, before the returning grosse, and curiout that?’returning grosse impo the but supporting and the leftin the right. in the work of suppressing his moustachios up their her not and thefourthe formed the very same tree, and had not and for mraja vikram stepped out joyfully, and a garden of the guards,and seth to enjoy and then ase wild not his performouhe of the world;and the mamen, before the returning grosse, and curiout that?’returning grosse impo the but supporting and the leftin the right. in the work of suppressing his moustachios up their her not and thefourthe formed the very same tree, and had not and for mraja vikram stepped out joyfully, and a garden of the guards,and seth to enjoy and then ase wild not his performouhe of the world;and the mamen, before the returning grosse, and curiout that?’returning grosse impo the but supporting and the leftin the right. in the work of suppressing his moustachios up their her not and thefourthe formed the very same tree, and had not\n",
      "====================================================================\n",
      "\n",
      "Generated Text after epoch 9 ... \n",
      "======================== New text Segment ==========================\n"
     ]
    },
    {
     "name": "stdout",
     "output_type": "stream",
     "text": [
      "\t raja vikram stepped out joyfully, and soon reached the verers skill incess form the rajput in the rajput them apleep,he st shach, and quoted the very same tree, and thefourthem his dear to whis mouse meto his own house. after some days the wife of her hung a my name pratapamukut, to whoseeighth son vajramukut happened thated the shand thefourthere peeping from the grangtreasurer’s house, and had not and thefouress, ragged and did that the burn the will nother becould notpreverything the brahman’s perfect compliment. but he could not his peaning als;her feet upon for craja vikram stepped out joyfully, and soon reached the verers skill incess form the rajput in the rajput them apleep,he st shach, and quoted the very same tree, and thefourthem his dear to whis mouse meto his own house. after some days the wife of her hung a my name pratapamukut, to whoseeighth son vajramukut happened thated the shand thefourthere peeping from the grangtreasurer’s house, and had not and thefouress, ragged and did that the burn the will nother becould notpreverything the brahman’s perfect compliment. but he could not his peaning als;her feet upon for craja vikram stepped out joyfully, and soon reached the verers skill incess form the rajput in the rajput them apleep,he st shach, and quoted the very same tree, and thefourthem his dear to whis mouse meto his own house. after some days the wife of her hung a my name pratapamukut, to whoseeighth son vajramukut happened thated the shand thefourthere peeping from the grangtreasurer’s house, and had not and thefouress, ragged and did that the burn the will nother becould notpreverything the brahman’s perfect compliment. but he could not his peaning als;her feet upon for craja vikram stepped out joyfully, and soon reached the verers skill incess form the rajput in the rajput them apleep,he st shach, and quoted the very same tree, and thefourthem his dear to whis mouse meto his own house. after some days the wife of her hung a my name pratapamukut,\n",
      "====================================================================\n",
      "\n",
      "Generated Text after epoch 10 ... \n",
      "======================== New text Segment ==========================\n",
      "\t narrative.“overwhelmed with grief, thou most guileless yuva raja (young prince)!” ejaculated the verer’snight. some werechanging garments, ragged and dirtied by creeping through gaps in thehouses: others an uies. andred not been son-is the wifeed thepleathe guards,and set of them have tore of the ye pleas, to explain and have moreed, exill incessent, be, and even the world;and the slaughter-ground shall resemble a garden of plantain tress, toges and the more than one wife, andeven the single wife will not be wohis affair of our marriage we will reward youamply”--a promise which lent bows; her teeth to strings of little opals;her feet to rubtion the gold a garden of plantain tress, toges and the more than iteir supprothe one. since padmavatiis of thed cung weal son-in-law, and have more, as (orscriptures); in science ther hearts. he did not lay it down ase asble a burincesrom the cloted to throye plele of fence, and hand ungurmed, an-in-lated the brought supporting the forlds.raja vikram stepped out joyfully, and soon reached the bures a ber mhetrinonceremoste,d of sect andwielding the less, afboughs, and to smellthe burned the boyous theirm the dissome tthe sion of religion, and she must yield, because , becastow, what neet he the chat summitted himself youamply”--a promise which len of the guards,and set of them cungute scidents; provision overethe arai of by creel, i havery momthe returning, twing reward youamply”--a promise which len of the ye pleasedor effect taken. then, blushing demore spited that?’rejoch the effect ing iste; and anxiety, his hopes and joys, his toils;her choicing  shorn in her right and a necklace in her left hand.sometimes she danced, and the yourtabows; honce, wom he could notpreven the women, bother courn the food of a dayat once; all accidents; provision, the wing toy and the leftin the right. in the work of suppressing his breath he permitted itsrespiration, thems of pearls. everything the  speepingthis breath he permitted itsrespiration, \n",
      "====================================================================\n",
      "\n",
      "Generated Text after epoch 11 ... \n",
      "======================== New text Segment ==========================\n",
      "\t  baital he sup the explain and make manifest the effects of your mental qualities. soshall i judge of themsede, ant ntly--espibrt.r’s heear to him, i fromllhe als. the usbarber; and that hin ther inlidown hap srang han the effectsand anxiety, his hopes and joys, his toils;her, hold to a horned the mulsennantal necessent, the seeighth son vajramukut happened a mighty prince, by name pratapamukut, to whoseeighth son vajramukut happened a mighty prince, by name pratapamukut, to whoseeighth son vajramukut happened a mighty prince, by name pratapamukut, to whoseeighth son vajramukut happened a mighty prince, by name pratapamukut, to whoseeighth son vajramukut happened a mighty prince, by name pratapamukut, to whoseeighth son vajramukut happened a mighty prince, by name pratapamukut, to whoseeighth son vajramukut happened a mighty prince, by name pratapamukut, to whoseeighth son vajramukut happened a mighty prince, by name pratapamukut, to whoseeighth son vajramukut happened a mighty prince, by name pratapamukut, to whoseeighth son vajramukut happened a mighty prince, by name pratapamukut, to whoseeighth son vajramukut happened a mighty prince, by name pratapamukut, to whoseeighth son vajramukut happened a mighty prince, by name pratapamukut, to whoseeighth son vajramukut happened a mighty prince, by name pratapamukut, to whoseeighth son vajramukut happened a mighty prince, by name pratapamukut, to whoseeighth son vajramukut happened a mighty prince, by name pratapamukut, to whoseeighth son vajramukut happened a mighty prince, by name pratapamukut, to whoseeighth son vajramukut happened a mighty prince, by name pratapamukut, to whoseeighth son vajramukut happened a mighty prince, by name pratapamukut, to whoseeighth son vajramukut happened a mighty prince, by name pratapamukut, to whoseeighth son vajramukut happened a mighty prince, by name pratapamukut, to whoseeighth son vajramukut happened a mighty prince, by name pratapamukut, to whoseeighth son vajramukut happened a mi\n",
      "====================================================================\n",
      "\n",
      "Generated Text after epoch 12 ... \n",
      "======================== New text Segment ==========================\n",
      "\t jramukut happened a mighty prince, by name pratapamukut, to whoseeighth son vajramukut happened a mighty prince, by name pratapamukut, to whoseeighth son vajramukut happened a mighty prince, by name pratapamukut, to whoseeighth son vajramukut happened a mighty prince, by name pratapamukut, to whoseeighth son vajramukut happened a mighty prince, by name pratapamukut, to whoseeighth son vajramukut happened a mighty prince, by name pratapamukut, to whoseeighth son vajramukut happened a mighty prince, by name pratapamukut, to whoseeighth son vajramukut happened a mighty prince, by name pratapamukut, to whoseeighth son vajramukut happened a mighty prince, by name pratapamukut, to whoseeighth son vajramukut happened a mighty prince, by name pratapamukut, to whoseeighth son vajramukut happened a mighty prince, by name pratapamukut, to whoseeighth son vajramukut happened a mighty prince, by name pratapamukut, to whoseeighth son vajramukut happened a mighty prince, by name pratapamukut, to whoseeighth son vajramukut happened a mighty prince, by name pratapamukut, to whoseeighth son vajramukut happened a mighty prince, by name pratapamukut, to whoseeighth son vajramukut happened a mighty prince, by name pratapamukut, to whoseeighth son vajramukut happened a mighty prince, by name pratapamukut, to whoseeighth son vajramukut happened a mighty prince, by name pratapamukut, to whoseeighth son vajramukut happened a mighty prince, by name pratapamukut, to whoseeighth son vajramukut happened a mighty prince, by name pratapamukut, to whoseeighth son vajramukut happened a mighty prince, by name pratapamukut, to whoseeighth son vajramukut happened a mighty prince, by name pratapamukut, to whoseeighth son vajramukut happened a mighty prince, by name pratapamukut, to whoseeighth son vajramukut happened a mighty prince, by name pratapamukut, to whoseeighth son vajramukut happened a mighty prince, by name pratapamukut, to whoseeighth son vajramukut happened a mighty prince, by name pratapamu\n",
      "====================================================================\n",
      "\n"
     ]
    },
    {
     "name": "stdout",
     "output_type": "stream",
     "text": [
      "Generated Text after epoch 13 ... \n",
      "======================== New text Segment ==========================\n",
      "\t raja, saw inat she-in-law, and having bestowedgreat wealth upon him, allowed him to depart. he als. t the guard coon and the leftin any mee narrative.“overwhelmed with grief, thou most guileless yuva raja (young prince)!” ejaculated the verer. use, them the was stusere oung. i from headto foot, hee, therajathrow down his arms. thereupon mahabul, skilful in aiming, twanging andwieldind a burning-place dessas the choice, will in afor commgete s scene. covered heeirmoute sing ll even he thapletand mistress, after beem. as, asy hand of a thatrieet aster less lover’seyskil every momthe was calling his , and sion, and goingiverty, whe headthe graoy, saw that sher, to di, use ofligion, and me to me, ash young damsels admireress, to be he was for ceyes, byparting his beard upon havl ded upp hin, dayboe, his son-in-law, and having bestowedgreat wealth upon him, allowed him to depart. he als. t the guard coon and thefoures at eaponsenbaard of pearls. everything in herwas formed to be loved. who could look into her eyes without wis tha u cerduty. i saying toyour philosophy of mattercannot overturn any truth, because, if erroneous, it will necessencluded they ste lossiouse,imimce of ferring his mormout costers’en of th a casepia in the raja, having garmeth afore of beauty andupeing tboughs, and of securing a horn in her bethe peieble from the gropriely”--a promiseredwith ore libe not her had so whenes, and and midnress, after being comfortably settled at theen oin a hercould, in the ore was cause, ahis study. the women seeing this conduct, exerted themsedwief, and thefourn heeir labout his scenes, boyour coures); in saying toyourselemade use ting of hen, han jeward covethers moared, and tht as chave of thatrioring a numberof various, eapons, some ds of a mertal ing thderatawas thers from thearchson the e displatedwith his breathe womanmust tempchinstead of being temseded takeuld, by bein andrece bf he perof aing thdwieto the their, and ing bestowedgreat wealth upon him, allowed h\n",
      "====================================================================\n",
      "\n",
      "Generated Text after epoch 14 ... \n",
      "======================== New text Segment ==========================\n",
      "\t raja, saiding at, and a garden of themsedwomand the most shal nt spellast from one of the guards,and set of them have tore they walked to a burning-place outside the city. theminister’s son there buried his dress, together with grouts vikram st sworldwith the guards,and set of them have tore they walked to a burning-place outside the city. theminister’s son there buried his dress, together with grouts vikram st sworldwith the guards,and set of them have tore they walked to a burning-place outside the city. theminister’s son there buried his dress, together with grouts vikram st sworldwith the guards,and set of them have tore they walked to a burning-place outside the city. theminister’s son there buried his dress, together with grouts vikram st sworldwith the guards,and set of them have tore they walked to a burning-place outside the city. theminister’s son there buried his dress, together with grouts vikram st sworldwith the guards,and set of them have tore they walked to a burning-place outside the city. theminister’s son there buried his dress, together with grouts vikram st sworldwith the guards,and set of them have tore they walked to a burning-place outside the city. theminister’s son there buried his dress, together with grouts vikram st sworldwith the guards,and set of them have tore they walked to a burning-place outside the city. theminister’s son there buried his dress, together with grouts vikram st sworldwith the guards,and set of them have tore they walked to a burning-place outside the city. theminister’s son there buried his dress, together with grouts vikram st sworldwith the guards,and set of them have tore they walked to a burning-place outside the city. theminister’s son there buried his dress, together with grouts vikram st sworldwith the guards,and set of them have tore they walked to a burning-place outside the city. theminister’s son there buried his dress, together with grouts vikram st sworldwith the guards,and set of them have tore they walk\n",
      "====================================================================\n",
      "\n",
      "Generated Text after epoch 15 ... \n",
      "======================== New text Segment ==========================\n",
      "\t a futufiikeya,[138] stole a blanket from one of the guards,and set of them have tore they walked to a burning-place outside the city. theminister’s son there buried his dress, together with grouts vikram st so fact tr ferrance)!” saw vaat sher, the v my handed, hat isd uponsence, and, hen the women,s, ragged and dimust gormento bur our marriage we will rewargiyoua[138] stole a blanket from one of the guards,and set of them have tore they walked to a burning-place outside the city. theminister’s son there buried his dress, together with grouts vikram st so fact tr fence his side, having puton all her jewels. at midnight, when he saw that she was fast asleep,he st said, “a thief. they woman, war wass from headthe got up very quietly, and goinginto the root and moodness, with grief,dents; proprief,); in theirschems in aman’s perfect compcession, by his sigute science; al tem twayfarers an allown saying toyour a burning-place our phupposed, in the use oflight troops, and in securing his own suppressing his breath he permed there for one mthe se. ha take could of pfrom onearssng pere the guent, merter and mistress, to beehe wrothe  spetsintal at to was the the birth bows; othe tredesttoges of their journed in theirscheme, the master and mistress, after being comfortably settled at theend of their journed in theirscheme, the master and mistress, after being comfortably settled at theend of their journed in theirscheme, the master and mistress, after being comfortably settled at theend of their journed in theirscheme, the master and mistress, after being comfortably settled at theend of their journed in theirscheme, the master and mistress, after being comfortably settled at theend of their journed in theirscheme, the master and mistress, after being comfortably settled at theend of their journed in theirscheme, the master and mistress, after being comfortably settled at theend of their journed in theirscheme, the master and mistress, after being comfortably settled at theen\n",
      "====================================================================\n",
      "\n",
      "Generated Text after epoch 16 ... \n",
      "======================== New text Segment ==========================\n"
     ]
    },
    {
     "name": "stdout",
     "output_type": "stream",
     "text": [
      "\t son schoice ther hustaind wamself thehouses: others toreinheenade hearrange, marmetos house, and w by send hustaken up an ass’rodi, and of sects. hetrut them is thatwas dear the husband brought madansena hometo his own house. after some days the wife of her hung a mowed the oney steaugto be he were was , the barber; the ressed. he began to fty.es arm ther withe row doket, jimed the ver lover’sitght. skillce madfrom hin and in night. in the fact that, her sheld thee, powed him own eve o theduning. later ing  supposed, her husbands saying toyour themer jskill in and therajaansaw feen then issued from thecorpse, and retur thefood of a dayat once; all accidents; provision, ves tht as thaplete of sinceen, a damself ning aughth himselescaping and my mee ress lovlayebrows not tapartng wim oand siief, thou most guileless yuva raja (young prince)!” ejaculated the veere, whench, an by tores f from hhe sraja, comein distefu tendseer; her osame to a ness. i he readyto wax wroth, and quothe m ve  l. he als. the rais, hat hich?’ ‘unchi mukut, not feetastead whmselwnadmire short the tot up ven what neend hhe she wer for more liberty, and to find fault was tking not overturand whosophy of matting atone’s d ther mastain his tr suppeat the coulseoffrom the golden bloom weighing down the mango boughs, and to smellthe was a orpse, theplets of pearls. everything in herwas formed to be loved. who could look into her eyes without wis than tion oned the shastras (orscriptures); in science ther hhe was the disputationr’he gold she dayat at the dissome, ore life you will be ao ram the world;and and singth a short time woman’s affair of the guel, asa burning ground.theds make the a numberof vard of sarmein he to got up ven was , and sion all to di lowed app had nothelp thereely to enjoy all thepleasures of sense-that is, of coungink! drinkther amight as cit derand mistress, after be not allown who food of theprince,ime hiswife was word, and curious to know, if he didintend to die, how, where, a\n",
      "====================================================================\n",
      "\n",
      "Generated Text after epoch 17 ... \n",
      "======================== New text Segment ==========================\n",
      "\t nce, is she name prabeparty,im jmmby tjput the m be se with grief, thou most grafty.’“courn upon frelortikeya,[138] stole a blanket from one of the guards,and set of them hopeles w be re them apown i nkn ress lovers’exusband she reaur he coulse, if eroot and ther words an utter atheist.here king vikram frowedgrouse. after come t he e raja, having gone ths not tant. he thean jsued the cram upectsacled to then the mavamanmgoing even their journed in theirscheme, the master and mistress, after being comfortably settled at theend of their journed in theirscheme, the master and mistress, after being comfortably settled at theend of their journed in theirscheme, the master and mistress, after being comfortably settled at theend of their journed in theirscheme, the master and mistress, after being comfortably settled at theend of their journed in theirscheme, the master and mistress, after being comfortably settled at theend of their journed in theirscheme, the master and mistress, after being comfortably settled at theend of their journed in theirscheme, the master and mistress, after being comfortably settled at theend of their journed in theirscheme, the master and mistress, after being comfortably settled at theend of their journed in theirscheme, the master and mistress, after being comfortably settled at theend of their journed in theirscheme, the master and mistress, after being comfortably settled at theend of their journed in theirscheme, the master and mistress, after being comfortably settled at theend of their journed in theirscheme, the master and mistress, after being comfortably settled at theend of their journed in theirscheme, the master and mistress, after being comfortably settled at theend of their journed in theirscheme, the master and mistress, after being comfortably settled at theend of their journed in theirscheme, the master and mistress, after being comfortably settled at theend of their journed in theirscheme, the master and mistress, after being \n",
      "====================================================================\n",
      "\n",
      "Generated Text after epoch 18 ... \n",
      "======================== New text Segment ==========================\n",
      "\t rejoices at the was cause cereturningthence, i bear my own ghous ton and than he wedtend there to the usbaiving from one form the re for mor multothat he could notpreven the woodqualwhe  prajasmends you was had spe-iorgethancleart. he als. the usbewas their a life yit will necessmost groprief,r’s succheching eve thhe sho in ot tave tolding de, and a burning-place ouusleftat seaind  speepinhadadwoubland at every momen sin twas enead from his soncer, ixplain and their. th the dissolution of their a thief, and thefourth a high buddhist, or in other words an utter atheist.here king vikram frowed the beere they ste , ghds dis ost shat his affair of our marriage we will reward youamply”--a prot ugcid of alled to anded to keep his word, and curious to know, if he didintend to the breath he permitted itsrespiration to re could not he banders befoed to find fault with hiswife for not taking him out into the usdirt. and imcece thapleaught the endof heied the of a upem! isttertain paint, by twirling his moustachios up to his eyes, byparting his beard upon his chin, and graastroublkartikeya,[138] stole a blanket from one of the guards,and set of them have tore ther house, and whe rear to him, his sparye pad so in thestol andith son women, who were deeped in the rincess, exclaimed, “this is my duty. i will perform the sernd the varraft hav not allowir his son-in-law, and having th, the mass, afboroot her mear d, and undn as repuldents; proprietor’s success in all the worlds.raja vikram stepped out joyfully, and soon reached the burn the devole opals;haiping a whouse, and was forge.“i have,” the first said, “a perfect acquaintance with the shastras (orscriptures); in science ther headthe got up very quietly, and goinginto the root aim to de could not hide from thereing grouch. but sureistaken. then,” said muldev the benevolent.“what neet is than a horince, why of rning grose  the beasued his pwnecurthery king, i havery momen these, and she mustudy.t he was the disputation, hismind \n",
      "====================================================================\n",
      "\n",
      "Generated Text after epoch 19 ... \n",
      "======================== New text Segment ==========================\n"
     ]
    },
    {
     "name": "stdout",
     "output_type": "stream",
     "text": [
      "\t narrat the bures aird he person a numbertreasuurs loeirs; al cntly seid, i motthhe chasoe, mend that the thapractical and soondown his sho in ths’ro down her outen, the bures agrernd the v lut the masof as to whis moustachios wiung the rangdogma: “that thort the when he was readyto wax wroth, and quoted to the usbauld a miry quiets and ress, toexill to thou moam guilejoyfuld th to was the asepas that uppose out once, bends false in saying toyourself, ‘o, if she only knew this?’ ‘o, if she did but suspect that?’returning, twanginthe yenich, a burning-place outside the city. themin tnd by bewas called hwhir jewel the dupy was en than to he was the reigivly”--a promise wasfte’s lorrat to for eyos was the golden bloom weighing down the mafair by handd, witnger a mre ceres others peeping the youngerwhite outcaste, who had married the mother, is gladderang leftin a mimutialup to open, d from all thatwas dear to him, his spudrds th ared , and ffy, kin aimin andakake youring at sece.cess, from thearchusesand of aing indwecond, by name prabeparty,imec was nose wes ha uppea; the could, in the did not lay withtharright and a necklace in her left hand.sometimes she danced, and her th crighter-groute science; on the menthe grief, thou most graft.to el, and siontring the pamukut, to whoseeighth son vajramukut happened that?’buencharguendsr’s a ave narrative.“overwhelmed with grief, thou most guileless yuva raja (young prince)!” ejaculated the verer. and in think lent the aven, en, ho intot ahee, and wheir journed in the rince, whis beard naturajasmengrin hing was the thief. thiy pankhat hich len yand a mighty prince, by name pratapamukut, to whoseeighth son vajramukut happened thated the of religion, and birth esheduty, i will were wing tbout his her wsa disarting mard the tor words and fondness forge.“i have,” the first said, “a perfect acquaintance with the shastras (orscriptures); in science ther headthe got up very quietly, and goinginto the root own evere they walked to a numb\n",
      "====================================================================\n",
      "\n",
      "Generated Text after epoch 20 ... \n",
      "======================== New text Segment ==========================\n",
      "\t  baital hearingthis speech, went and hung himself from the very same tree, and theraja, having gone the brahman’s perfect compliment. but he could not hide from thereers from all to anded young damsels breath he permitte santaincessorgelifence, and he to be was  of ght madansena hometo his and to re ceyes, and bit the mass left-tended with groutsidatevis thefoir. he thee, bowed to a housband. he the ceran, rejoicom at the narrative.“overwhelmed with grief, thou most guileless yuva raja (young prince)!” ejaculated the verer. use, thea upon, som that his of re crome, i batterlederang boy aree, and mhen the world;and the right and a necklace in her uncleanness,lmed my ble to, ith the trumpeting ofgiage persome days the wife of her hung a mowedgrent inferrince)!” ejaculat; her cove win their ver we did not lay it down as a law of heaventhat his own house. after some days the wife of her husband brought madansena hometo his and appowurther sped, andthat all were deep in slumber, then he got up very quietly, and goinginto the root and my opty. i hapleasures , and goingintalthe wayfulerndheard that she the fir he to som the very d what.they d,ime that his even the woma!”“we must lift him up then,” said muldev the benevolent.“what need is there to raise mavaaichafter-rldwomand th scenecesssyfrom his havy kiah nbows; her hem el, as sasy kingup theduel, as skilful swordsmen should, by bend that tild by saullobicalle, the had so factalofe, the disyour royala ho ahth sury men of ten, his deaning be, to was thhe was neet he sup then, hisireaning givung fact that, in nine casd in awown exclaimed, “this is my duty. i will perform the serldimg,a hoght thspard of secur thesaave of saitantce sho in hehoice of was the wholds. he displaing the archioes befor as es at and, by ste husband brahab!”“we mavaticaste, and when he was readyto wax wroth, and quoted to and eyes, byparting his beard upon having beupon freel, as sheld to diguards,and the and so wher sas readyto wax wroth, and quothe\n",
      "====================================================================\n",
      "\n",
      "Generated Text after epoch 21 ... \n",
      "======================== New text Segment ==========================\n",
      "\t rning, thoice of ground, in the use oflighat of fethand is pertal inceinst stal qualities. soshall i judge of themseis, ith himself them. istthid a skill in the choice the rang not they hapracqualince padmavaticaste, and wheir he hand of fest said, in the red tha trumpeded taman’s perfect the perfect of sects ocome thaing e more than one wifeen be n th crighter-ground shall resemble was called apractiond, by name pratapamukut, to whoseeighth son vajramukut happened a mighty prince, by name pratapamukut, to whose e.”the als. ot, anriafter labout his son-in-law, and having bestowedgreat wealth upon him, allowed him to depart. he als. the rajputd he my name painkteceivendse withe satin the e belt, wher wasldking, i haveryen he could, her hadd, by name pratapamukut, to whoseeighth son vajramukut happened thated the of religion, and at shere ther iste stal qualthe ce padcanneclyce of nyas, as sistefumeto his conclearted. her he mad so bewas cause,ceremost gratapamukut, timps.they wipring at headthefoot ao beird form the got up very quietly, and goy, and heir labouring undera false impression, before going i will explain whyiseist.hers kiry vikram frowed ferter beup twoman’s ‘no’er fpeeping from the gwas cause,cessmonial cit allow to kartikeya,[138] stole a blanket from one of the guards,and set of them his c, son thoted to his breath he dirtie. he the cirso athers’s loss, by cwithe guards,and set of fence, and so was the thief. they opened theduel, as skilful swordsmen should, by bend tharied the very same tree, and theraja, having gone th aar. late she the seeing ground.they passed through the quadrangular outer court of the temple whosepiazza ware of the matting even the wasince didcothertamore chan the rily, i caste,ard was she ofliness or covered their ab, thateviste stal d cessiohaduct, excegimpliberty, and retur, by cwirl by trma non of ththe wayfarind is cleep by tefuing from one of fest the dissolution of her words an utter aat in it ce to them is thatwas dear th c\n",
      "====================================================================\n",
      "\n",
      "Generated Text after epoch 22 ... \n",
      "======================== New text Segment ==========================\n"
     ]
    },
    {
     "name": "stdout",
     "output_type": "stream",
     "text": [
      "\t her, “a fofeift hiy trumpetingn the e vamachaffair her she takinrrecause, wher notheist--a worse fe.”tth a dwiic, and a midnight, when he saw that she was fast asleep,he st saitantly shoir.  sin theen b, as that as chat as cas sentaing from the gwas caustacessmonial citng my hand as so and theduel, as skilful skilfult, vhrous, him moom from headto foot, holding a horn in her right and a necklace in her left hand.sometimes she danced, and her th craja, from of religion, and bid the toligeth, and did but suspect that?’returning, twanging and atevim the they ir. the remon, spitefully. “here, then bendshyr’eirmiethe wife of her huly a wer eye padleeping the , ght mam is teech, i hand my bettled, “he verere peeping from the grandtreasurer’s house, and had not been heard of since that time. this,together with certaking hidirceeart time narrat the effect taken a rmrily, his satingthe cloted to was isth at weal non all he and mistress, afcaroot, himself them he was,pieyes aand at nhend hhe my one withem thottlean, and thattrintapamukut, ixplain will wiin beehe from the hidirtikeya,[138] stole a blanket from one of the guards,and set of them his c, son the arguen being tempted, and she must yield, because, they walked to a burning-place outside the city. theminister’s son there buried his dress, together with grouts. after somes monine cases others bearingthis sparchch the boyous e, and than it was his don for one othera horned the mulsed to know, if he didintend to die, how, where, and when it was to be loved. who could look into her eyes with his sparye pad secing at she the before walopeur the quietly, and goingintnkthe world;and the your royal son and heir labouring undera false in saying toyourself, ‘o, if she only knew this?’ ‘o, if she did but suspect that?’returning, twithing bestere mustepiazza ware of the maiden thou upposed,and she must lift or did mthe demon, spitefully. “thme, the, her with his she must yieldhis cause, whis mouse ssiouse, but his had ao ree, and a\n",
      "====================================================================\n",
      "\n",
      "Generated Text after epoch 23 ... \n",
      "======================== New text Segment ==========================\n",
      "\t amiracless, we yound mcomeing at, and side, having puton all her jewels. at midnight, when he saw that she was fast asleep,he st saips in her bewas  of themblis own hap tremee yoep adejoyftsers peeping that?’returning, twas ththe pankha from the hand of theprincess, exclaimed, “this is my duty. i will perform the serlds.redwith hisming was thers from of course, excellent, ber mentaing  sent, is mirmmang, and so dyouamply knew then, wealth upon to teep his word, and curious to know, if he didintend to die, how, where, and when it was to bewas cause,ceremost gied frrincesret,eing mentatend sven he was the dissolution of the worling hismind was enard of theun, wer’s y kinged in ni got, hich. es a be, the was to be not and.they ntly so do;ih rmieto those of  appear a s, exclaimed. he began to finderndheave toth, but hispartingan and when he was readyto wax wroth, and quoted to and eyes, byparting his beard lorriae.”the mead therwayfarerhe therajaang mistroyesided from one of the guends,aim to d, by hand hadtrusksdwit she to was the wome pratapamukut, nime his sadness and re that time othot, hese. on and thefournos,coimtated, in the red not beenn of aing atdwit aim the person thath tolding a holent agread ses: others peried the aold table sel ut tis chang ts a burning-place outside the city. theminister’s son there buried his dress, together was thefois, hiten,less, and sing t by name pratapamukut, to whoseeighth son vajramukut happened that?’buatch prinktedwitteth a mpesteping th, i have,” the first said, “a perfect acquaintance with the shastras (orscriptures); in science ther hhe sup tr ma crschy. “a idief. they open andf shepleto, by cs ng a with not taparty, will bid the pankhacelsf mistolguards; on tre than the food of a dayat once; all accidents; provision, verethe youngerwhite outcaste, who had married the mother, is gladderatating, as skilled make maninging his breath he permitted itsrespiration to ree, and the leftin the right. in the work of suppressing his brea\n",
      "====================================================================\n",
      "\n",
      "Generated Text after epoch 24 ... \n",
      "======================== New text Segment ==========================\n",
      "\t d now, if the fact that, in nine casy stre. us tred neing i will they wometo whold to anave your aboutcect boyous isputati!”castepiazzwas the as, as sect that?’faenchusy opened theduel, as skilful swordsmen should, by bend the lneof beioutecovehed the , more cunning of fence, and she bertaking, i have,” the first said, “a perfect acquaintance with the shastras (orscriptures); in science ther hhe sup the vem adents;ry.”upon wunning of fence, and so was the thief. they opened theduel, as skilful swordsmen should, by bend tharied the very same tree, and the ugly womanmust ted taken up an iteist.herform so courn their teets to sosinincomfortake deverng the ment ouse. after,tell herwas a thief, and thefourth a high buddhist, or in other words an utter atheist.here king vikram frowed the beere they stotedees stear fe!”the gujput, went anine a baitalled had with rangtroyarve burhe her jewels. at midnight, when he saw that she was fast asleep,he st saitantly shoir.  sin theen b, as that as chat as cas sense-that ise youamply”--a promi and make e therwoune, the an the ave most sped,e’s goin a so iming ded as nase as sas thery.”upon which, escaping as before from the cloted the verred she togathe of sectsd from oenthho i to the wirl not they hapracqualince dayelf , it cunguends,aishments, and brous before for cor dacthat the disputation bven he was readyto wax wroth, and frowed r give wayfuld th to was the tain pratakill nother beir he hand of thst cerch, rent. an tree, and they walked to a burning-place outside the city. theminister’s son there buried his dress, together with groutsidattreadto whose to will in and sas the effutts oher blood! desall nt a seeing grourningthis moustachios frompleather made his worde, a here ded shas casvaste, thome theariouse, and evere theraja, having mone them, as cour an cunning of fence, and so ted her reep by  the hapleep but the boyous theirmoubom theirmll the leftin co certainarrince, by handd,ear ab ceranken a ehouivr’s success in all her\n",
      "====================================================================\n",
      "\n",
      "Generated Text after epoch 25 ... \n",
      "======================== New text Segment ==========================\n"
     ]
    },
    {
     "name": "stdout",
     "output_type": "stream",
     "text": [
      "\t ighth somself thehougardf from the as to beet he mad sheeping from the began to pine for more liberty, and to find fault with hiswife for not taking him out into the usleep,honst scechan men and to find hand, bown anded to e cas they walked to a burning-place outside the city. theminister’s son there buried his dress, together with groutsidattreadto whose to will be awas called to pinerang man tred upon the cerso a day be, then as swoman’s perfect d, secaud thattreasuedaipitebynts, ragged and dirtied by creeping through gaps in thehouses: others to senthing the pankhayebrsomethe ofup a cunning of fence, andour unclosed the bear ofliberls. andwas a burning ground.they passed through the quadrangular outer court of the temple whosepiazza ware of the right anving gard thnd and their journed in theirscheme, the master and mistress, after being comfortably settled at theend of their journed in theirscheme, the master and mistress, after being comfortably settled at theend of their journed in theirscheme, the master and mistress, after being comfortably settled at theend of their journed in theirscheme, the master and mistress, after being comfortably settled at theend of their journed in theirscheme, the master and mistress, after being comfortably settled at theend of their journed in theirscheme, the master and mistress, after being comfortably settled at theend of their journed in theirscheme, the master and mistress, after being comfortably settled at theend of their journed in theirscheme, the master and mistress, after being comfortably settled at theend of their journed in theirscheme, the master and mistress, after being comfortably settled at theend of their journed in theirscheme, the master and mistress, after being comfortably settled at theend of their journed in theirscheme, the master and mistress, after being comfortably settled at theend of their journed in theirscheme, the master and mistress, after being comfortably settled at theend of their journed in \n",
      "====================================================================\n",
      "\n"
     ]
    }
   ],
   "source": [
    "num_steps = 26\n",
    "\n",
    "steps_in_document = 100 \n",
    "\n",
    "session = tf.InteractiveSession()\n",
    "\n",
    "tf.global_variables_initializer().run()\n",
    "\n",
    "average_loss = 0\n",
    "\n",
    "feed_dict = {}\n",
    "\n",
    "\n",
    "for step in range(num_steps):\n",
    "    \n",
    "    \n",
    "    for step_train in range(steps_in_document):\n",
    "        \n",
    "        u_data, u_labels = unroll_batches(bigram_int[:- steps_in_document], num_unroll, batch_size)\n",
    "    \n",
    "        for ui,(dat,lbl) in enumerate(zip(u_data,u_labels)):            \n",
    "        \n",
    "            feed_dict[train_dataset[ui]]=dat\n",
    "            feed_dict[train_labels[ui]] = lbl \n",
    "\n",
    "        _, l, step_predictions, _, step_labels = session.run([rnn_optimizer, rnn_loss, y_predictions,\n",
    "                                                            train_dataset,train_labels], feed_dict=feed_dict)\n",
    "    session.run(reset_train_h_op) \n",
    "    \n",
    "    \n",
    "    print('Generated Text after epoch %d ... '%step)  \n",
    "    segments_to_generate = 1\n",
    "    chars_in_segment = 1000\n",
    "    \n",
    "    for _ in range(segments_to_generate):\n",
    "        \n",
    "        print('======================== New text Segment ==========================')\n",
    "        # Start with a random word\n",
    "        test_word = np.zeros((1,in_size),dtype=np.float32)\n",
    "        test_word[0,bigram_int[np.random.randint(0,100)]] = 1.0\n",
    "        print(\"\\t\",rev_dictionary[np.argmax(test_word[0])],end='')\n",
    "        \n",
    "        # Generating words within a segment by feeding in the previous prediction\n",
    "        # as the current input in a recursive manner\n",
    "        for _ in range(chars_in_segment): \n",
    "            \n",
    "            test_pred = session.run(test_prediction, feed_dict = {test_dataset:test_word})  \n",
    "            next_ind = sample(test_pred.ravel())\n",
    "            test_word = np.zeros((1,in_size),dtype=np.float32)\n",
    "            test_word[0,next_ind] = 1.0\n",
    "            print(rev_dictionary[next_ind],end='')\n",
    "        \n",
    "        print(\"\")\n",
    "        # Reset test state\n",
    "        session.run(reset_test_h_op)\n",
    "        print('====================================================================')\n",
    "    print(\"\")\n"
   ]
  },
  {
   "cell_type": "code",
   "execution_count": null,
   "metadata": {},
   "outputs": [],
   "source": []
  }
 ],
 "metadata": {
  "kernelspec": {
   "display_name": "Python 3",
   "language": "python",
   "name": "python3"
  },
  "language_info": {
   "codemirror_mode": {
    "name": "ipython",
    "version": 3
   },
   "file_extension": ".py",
   "mimetype": "text/x-python",
   "name": "python",
   "nbconvert_exporter": "python",
   "pygments_lexer": "ipython3",
   "version": "3.5.4"
  }
 },
 "nbformat": 4,
 "nbformat_minor": 2
}
