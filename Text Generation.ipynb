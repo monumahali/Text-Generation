{
 "cells": [
  {
   "cell_type": "code",
   "execution_count": 66,
   "metadata": {},
   "outputs": [],
   "source": [
    "import numpy as np\n",
    "import tensorflow as tf\n",
    "import collections"
   ]
  },
  {
   "cell_type": "markdown",
   "metadata": {},
   "source": [
    "### Reading data and converting to bigrams"
   ]
  },
  {
   "cell_type": "code",
   "execution_count": 67,
   "metadata": {},
   "outputs": [],
   "source": [
    "def read_data(file):\n",
    "    with open(file, 'r') as f:\n",
    "        text = f.read()\n",
    "        text = text.replace('\\n', '')\n",
    "        start_idx = text.find('In Benares')\n",
    "        end_idx = text.find('FOOTNOTES')\n",
    "        text = text[start_idx:end_idx]\n",
    "        text = text.lower().strip()\n",
    "        \n",
    "        bigram_text = [''.join(text[char:char + 2]) for char in range(0, len(text) - 2, 2)]\n",
    "        \n",
    "    return bigram_text"
   ]
  },
  {
   "cell_type": "code",
   "execution_count": 68,
   "metadata": {},
   "outputs": [
    {
     "name": "stdout",
     "output_type": "stream",
     "text": [
      "no. of bigrams: 162287\n"
     ]
    },
    {
     "data": {
      "text/plain": [
       "['in', ' b', 'en', 'ar', 'es', ' o', 'nc', 'e ', 're', 'ig']"
      ]
     },
     "execution_count": 68,
     "metadata": {},
     "output_type": "execute_result"
    }
   ],
   "source": [
    "bigram_text = read_data('2400-0.txt')\n",
    "print('no. of bigrams:', len(bigram_text))\n",
    "bigram_text[0:10]"
   ]
  },
  {
   "cell_type": "markdown",
   "metadata": {},
   "source": [
    "### Creating Dictionary"
   ]
  },
  {
   "cell_type": "code",
   "execution_count": 69,
   "metadata": {},
   "outputs": [],
   "source": [
    "def create_dict(bigrams):\n",
    "    \n",
    "    count = []\n",
    "    count.extend(collections.Counter(bigrams).most_common())\n",
    "    \n",
    "    dictionary = dict({'UNK':0})\n",
    "    for char, freq in count:\n",
    "    \n",
    "        dictionary[char] = len(dictionary)    \n",
    "            \n",
    "    rev_dictionary = dict(zip(dictionary.values(), dictionary.keys()))\n",
    "    \n",
    "    return dictionary, rev_dictionary, count\n"
   ]
  },
  {
   "cell_type": "code",
   "execution_count": 70,
   "metadata": {},
   "outputs": [
    {
     "name": "stdout",
     "output_type": "stream",
     "text": [
      "dictionary ['37', 'nu', 'mw', 'un', 'p,', 'pu', 'n)', 'b-', '?’', 's ']\n",
      "reverse dictionary [0, 1, 2, 3, 4, 5, 6, 7, 8, 9]\n",
      "most common words: [('e ', 4702), (' t', 4538), ('he', 4474), ('th', 4451), ('d ', 3014)]\n",
      "len of dictionary: 1045\n"
     ]
    }
   ],
   "source": [
    "dictionary, rev_dictionary, count = create_dict(bigram_text)\n",
    "vocab_size = len(dictionary)\n",
    "\n",
    "print('dictionary', list(dictionary)[:10])\n",
    "print('reverse dictionary', list(rev_dictionary)[:10])\n",
    "print('most common words:', count[0:5])\n",
    "print('len of dictionary:', len(dictionary))"
   ]
  },
  {
   "cell_type": "markdown",
   "metadata": {},
   "source": [
    "### Converting from bigrams to int"
   ]
  },
  {
   "cell_type": "code",
   "execution_count": 71,
   "metadata": {},
   "outputs": [],
   "source": [
    "def bigram_to_int(bigram_text, dictionary):\n",
    "    \n",
    "    bigram_int = []\n",
    "    \n",
    "    for bigram in bigram_text:\n",
    "        \n",
    "        if bigram in dictionary:\n",
    "            bigram_int.append(dictionary[bigram])\n",
    "        else:\n",
    "            bigram_int.append(dictionary['UNK'])\n",
    "\n",
    "    return bigram_int"
   ]
  },
  {
   "cell_type": "code",
   "execution_count": 72,
   "metadata": {},
   "outputs": [
    {
     "name": "stdout",
     "output_type": "stream",
     "text": [
      "[9, 23, 24, 44, 34, 19, 118, 1, 17, 155]\n"
     ]
    }
   ],
   "source": [
    "bigram_int = bigram_to_int(bigram_text, dictionary)\n",
    "print(list(bigram_int[0:10]))"
   ]
  },
  {
   "cell_type": "markdown",
   "metadata": {},
   "source": [
    "### Generating batches"
   ]
  },
  {
   "cell_type": "code",
   "execution_count": 73,
   "metadata": {},
   "outputs": [],
   "source": [
    "def next_batch(bigrams, batch_size, num_unroll):\n",
    "    global vocab_size\n",
    "    \n",
    "    segments = len(bigrams) // batch_size\n",
    "    \n",
    "    cursor = [(offset * segments) + num_unroll for offset in range(batch_size)]\n",
    "    \n",
    "    \n",
    "    batch_data = np.zeros((batch_size,vocab_size),dtype=np.float32)\n",
    "    batch_labels = np.zeros((batch_size,vocab_size),dtype=np.float32)\n",
    "\n",
    "    \n",
    "    for b in range(batch_size):\n",
    "        \n",
    "        if cursor[b]+1>= len(bigrams):\n",
    "            cursor[b] = b * segments\n",
    "        \n",
    "        batch_data[b, bigram_int[cursor[b]]] = 1.0\n",
    "        batch_labels[b, bigram_int[cursor[b] + 1 ]] = 1.0\n",
    "        \n",
    "        cursor[b] = (cursor[b]+1)%len(bigrams)\n",
    "    \n",
    "    return batch_data, batch_labels"
   ]
  },
  {
   "cell_type": "markdown",
   "metadata": {},
   "source": [
    "### Unrolling batches"
   ]
  },
  {
   "cell_type": "code",
   "execution_count": 74,
   "metadata": {},
   "outputs": [],
   "source": [
    "def unroll_batches(bigram_int, num_unroll, batch_size):\n",
    "    \n",
    "    unroll_data = []\n",
    "    unroll_labels = []\n",
    "    \n",
    "    for u_idx in range(num_unroll):\n",
    "        \n",
    "        batch_data, batch_labels = next_batch(bigram_int, batch_size, u_idx)\n",
    "        \n",
    "        unroll_data.append(batch_data)\n",
    "        unroll_labels.append(batch_labels)\n",
    "        \n",
    "    return unroll_data, unroll_labels"
   ]
  },
  {
   "cell_type": "code",
   "execution_count": 75,
   "metadata": {},
   "outputs": [
    {
     "name": "stdout",
     "output_type": "stream",
     "text": [
      "unroll data shape: (10, 5, 1045)\n",
      "unroll labels shape: (10, 5, 1045)\n",
      "\n",
      "\n",
      "Unrolled index 0\n",
      "\tInputs:\n",
      "\tin (9), \tne (68), \t b (23), \tt, (175), \tn  (15), \n",
      "\tOutput:\n",
      "\t b (23), \td  (5), \ty  (29), \t t (2), \tva (216), \n",
      "\n",
      "Unrolled index 1\n",
      "\tInputs:\n",
      "\t b (23), \td  (5), \ty  (29), \t t (2), \tva (216), \n",
      "\tOutput:\n",
      "\ten (24), \ta  (59), \tna (176), \to  (32), \tjr (437), \n",
      "\n",
      "Unrolled index 2\n",
      "\tInputs:\n",
      "\ten (24), \ta  (59), \tna (176), \to  (32), \tjr (437), \n",
      "\tOutput:\n",
      "\tar (44), \tmi (142), \tme (57), \twh (70), \tam (125), \n",
      "\n",
      "Unrolled index 3\n",
      "\tInputs:\n",
      "\tar (44), \tmi (142), \tme (57), \twh (70), \tam (125), \n",
      "\tOutput:\n",
      "\tes (34), \tgh (132), \t p (51), \tos (139), \tuk (429), \n",
      "\n",
      "Unrolled index 4\n",
      "\tInputs:\n",
      "\tes (34), \tgh (132), \t p (51), \tos (139), \tuk (429), \n",
      "\tOutput:\n",
      "\t o (19), \tty (178), \tra (60), \tee (102), \tut (98), \n",
      "\n",
      "Unrolled index 5\n",
      "\tInputs:\n",
      "\t o (19), \tty (178), \tra (60), \tee (102), \tut (98), \n",
      "\tOutput:\n",
      "\tnc (118), \t p (51), \tta (105), \tig (155), \t h (11), \n",
      "\n",
      "Unrolled index 6\n",
      "\tInputs:\n",
      "\tnc (118), \t p (51), \tta (105), \tig (155), \t h (11), \n",
      "\tOutput:\n",
      "\te  (1), \tri (58), \tpa (134), \tht (159), \tap (210), \n",
      "\n",
      "Unrolled index 7\n",
      "\tInputs:\n",
      "\te  (1), \tri (58), \tpa (134), \tht (159), \tap (210), \n",
      "\tOutput:\n",
      "\tre (17), \tnc (118), \tmu (240), \th  (65), \tpe (112), \n",
      "\n",
      "Unrolled index 8\n",
      "\tInputs:\n",
      "\tre (17), \tnc (118), \tmu (240), \th  (65), \tpe (112), \n",
      "\tOutput:\n",
      "\tig (155), \te, (101), \tku (448), \tso (97), \tne (68), \n",
      "\n",
      "Unrolled index 9\n",
      "\tInputs:\n",
      "\tig (155), \te, (101), \tku (448), \tso (97), \tn  (15), \n",
      "\tOutput:\n",
      "\tne (68), \t b (23), \tt, (175), \tn  (15), \tva (216), "
     ]
    }
   ],
   "source": [
    "unroll_data, unroll_labels = unroll_batches(bigram_int[:50] , 10, 5)\n",
    "print('unroll data shape:', np.array(unroll_data).shape)\n",
    "print('unroll labels shape:', np.array(unroll_labels).shape)\n",
    "\n",
    "for ui,(dat,lbl) in enumerate(zip(unroll_data,unroll_labels)):   \n",
    "    print('\\n\\nUnrolled index %d'%ui)\n",
    "    dat_ind = np.argmax(dat,axis=1)\n",
    "    lbl_ind = np.argmax(lbl,axis=1)\n",
    "    print('\\tInputs:')\n",
    "    for sing_dat in dat_ind:\n",
    "        print('\\t%s (%d)'%(rev_dictionary[sing_dat],sing_dat),end=\", \")\n",
    "    print('\\n\\tOutput:')\n",
    "    for sing_lbl in lbl_ind:        \n",
    "        print('\\t%s (%d)'%(rev_dictionary[sing_lbl],sing_lbl),end=\", \")"
   ]
  },
  {
   "cell_type": "markdown",
   "metadata": {},
   "source": [
    "### Recurrent Neural Network"
   ]
  },
  {
   "cell_type": "code",
   "execution_count": null,
   "metadata": {},
   "outputs": [],
   "source": []
  },
  {
   "cell_type": "code",
   "execution_count": null,
   "metadata": {},
   "outputs": [],
   "source": []
  }
 ],
 "metadata": {
  "kernelspec": {
   "display_name": "Python 3",
   "language": "python",
   "name": "python3"
  },
  "language_info": {
   "codemirror_mode": {
    "name": "ipython",
    "version": 3
   },
   "file_extension": ".py",
   "mimetype": "text/x-python",
   "name": "python",
   "nbconvert_exporter": "python",
   "pygments_lexer": "ipython3",
   "version": "3.5.4"
  }
 },
 "nbformat": 4,
 "nbformat_minor": 2
}
